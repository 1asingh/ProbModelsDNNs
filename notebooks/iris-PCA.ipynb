{
 "cells": [
  {
   "cell_type": "markdown",
   "metadata": {},
   "source": [
    "PCA with Iris dataset\n",
    "==================\n",
    "\n",
    "\n",
    "<a href=\"https://colab.research.google.com/github/PGM-Lab/ProbModelingDNNs/blob/master/notebooks/iris-PCA.ipynb\" target=\"_parent\"><img src=\"https://colab.research.google.com/assets/colab-badge.svg\" alt=\"Open In Colab\"/></a>\n",
    "\n",
    "\n",
    "\n",
    "Principal Component Analysis (PCA) is a classic statistical technique for dimensionality reduction. It defines a mapping between the $d$-dimensional data-representation of a point $\\boldsymbol{x}$ and its $k$-dimensional latent representation, $\\boldsymbol{z}$. The latent representation is known as the scores, and the affine transformation is performed using the loading matrix $\\boldsymbol{\\beta}$, which has dimensions $k\\times d$. \n",
    "\n",
    "\n",
    "In this notebook, this technique is applied to the well-known Iris dataset.\n",
    "\n",
    "## Setting up the system\n",
    "\n",
    "First, we will install and import the required packages as follows."
   ]
  },
  {
   "cell_type": "code",
   "execution_count": null,
   "metadata": {},
   "outputs": [],
   "source": [
    "!pip install tensorflow\n",
    "!pip install tensorflow-probability\n",
    "!pip install matplotlib\n",
    "!pip install setuptools\n",
    "!pip install pandas"
   ]
  },
  {
   "cell_type": "code",
   "execution_count": 2,
   "metadata": {},
   "outputs": [],
   "source": [
    "import pandas as pd\n",
    "import tensorflow as tf\n",
    "from tensorflow_probability import edward2 as ed\n",
    "import numpy as np\n",
    "import matplotlib.pyplot as plt\n",
    "\n",
    "tf.reset_default_graph()\n",
    "tf.set_random_seed(1234)\n",
    "\n",
    "k = 2\n",
    "eps = tf.constant(0.0000001)\n",
    "\n",
    "learning_rate=0.01\n",
    "num_epochs = 5000\n",
    "verbose=True\n"
   ]
  },
  {
   "cell_type": "markdown",
   "metadata": {},
   "source": [
    "## Data \n",
    "\n",
    "The iris dataset is provided as a csv file which is located in this repository. Thus, the data is loadad as follows."
   ]
  },
  {
   "cell_type": "code",
   "execution_count": 3,
   "metadata": {},
   "outputs": [],
   "source": [
    "# load the data\n",
    "df = pd.read_csv(\"../data/iris.csv\")\n",
    "x_train = df.values[:,0:4].astype(np.float32)\n",
    "y_train = df.values[:,4]\n",
    "\n",
    "# model constants\n",
    "N, d = np.shape(x_train)"
   ]
  },
  {
   "cell_type": "markdown",
   "metadata": {},
   "source": [
    "## Model definition\n",
    "\n",
    "The implementation for the generative model for a PCA model (Algorithm 1) is defined below. The input parameters are: `k` is the latent dimension, `d` is the data-dimension and `N`the number of samples or data instances. "
   ]
  },
  {
   "cell_type": "code",
   "execution_count": 4,
   "metadata": {},
   "outputs": [],
   "source": [
    "def pca(k, d, N):\n",
    "    # Define local latent variables\n",
    "    z = ed.Normal(loc=tf.zeros([k]), scale=1., sample_shape=N, name=\"z\")\n",
    "\n",
    "    # Define the weights\n",
    "    beta = ed.Normal(loc=tf.zeros([k, d]), scale=1., name=\"beta\")\n",
    "    alpha = ed.Normal(loc=tf.zeros([N, d]), scale=1., name=\"alpha\")\n",
    "\n",
    "    # Define local random variables\n",
    "    x = ed.Normal(loc=z @ beta + alpha, scale=1., name=\"x\")  # N,k  @ k,d  +  N,d\n",
    "\n",
    "    return z, (beta, alpha), x\n",
    "\n"
   ]
  },
  {
   "cell_type": "markdown",
   "metadata": {},
   "source": [
    "This is a latent variable model (LVM) where the latent representation $\\boldsymbol{z}$ is known as the scores, and the affine transformation is performed using the loading matrix  $\\boldsymbol{\\beta}$.\n",
    "\n",
    "\n",
    "## Inference\n",
    "\n",
    "Variational inference is a deterministic technique that finds a tractable approximation to an intractable (posterior) distribution. \n",
    "We will use $q$ to denote the approximation, and use $p$ to signify the true distribution (like $p(\\boldsymbol{\\beta},\\boldsymbol{z}|\\boldsymbol{x})$ in the example above).\n",
    "More specifically, ${\\cal Q}$ will denote a set of possible approximations $q$.\n",
    "\n",
    "In practice, we define a generative model for sampling from $q(\\boldsymbol{\\beta},\\boldsymbol{z} | \\boldsymbol{\\lambda}, \\boldsymbol{\\phi})$, where $\\boldsymbol{\\lambda}, \\boldsymbol{\\phi}$ are the variational parameters to optimise.\n",
    "\n",
    "\n",
    "\n"
   ]
  },
  {
   "cell_type": "code",
   "execution_count": 5,
   "metadata": {},
   "outputs": [],
   "source": [
    "def q_model(k, d, N):\n",
    "    qz_loc = tf.Variable(tf.zeros([N, k]))\n",
    "    qz_scale = tf.math.softplus(tf.Variable(tf.ones([N, k])))\n",
    "    qz = ed.Normal(loc=qz_loc, scale=qz_scale, name=\"qz\")\n",
    "\n",
    "    qbeta_loc = tf.Variable(tf.zeros([k, d]))\n",
    "    qbeta_scale = tf.math.softplus(tf.Variable(tf.ones([k, d])))\n",
    "    qbeta = ed.Normal(loc=qbeta_loc, scale=qbeta_scale, name=\"qbeta\")\n",
    "\n",
    "    qalpha_loc = tf.Variable(tf.zeros([N, d]))\n",
    "    qalpha_scale = tf.math.softplus(tf.Variable(tf.ones([N, d])))\n",
    "    qalpha = ed.Normal(loc=qalpha_loc, scale=qalpha_scale, name=\"qalpha\")\n",
    "\n",
    "    return qz, (qbeta, qalpha)\n",
    "\n",
    "\n",
    "qz, (qbeta, qalpha) = q_model(k, d, N)"
   ]
  },
  {
   "cell_type": "markdown",
   "metadata": {},
   "source": [
    "Variational methods adjusts the parameters by maximizing the ELBO (Evidence LOwer Bound) denoted $\\cal{L}$ and expressed as \n",
    "\n",
    "$\\cal{L}(\\boldsymbol{\\lambda},\\boldsymbol{\\phi})  = \\mathbb{E}_q [\\ln p(\\boldsymbol{x}, \\boldsymbol{z}, \\boldsymbol{\\beta})] - \\mathbb{E}_q [\\ln q(\\boldsymbol{\\beta},\\boldsymbol{z}|\\boldsymbol{\\lambda},\\boldsymbol{\\phi})]$\n",
    "\n",
    "In Edward, this is done as follows."
   ]
  },
  {
   "cell_type": "code",
   "execution_count": 6,
   "metadata": {},
   "outputs": [],
   "source": [
    "def set_values(**model_kwargs):\n",
    "    def interceptor(f, *args, **kwargs):\n",
    "        name = kwargs.get(\"name\")\n",
    "        if name in model_kwargs:\n",
    "            kwargs[\"value\"] = model_kwargs[name]\n",
    "        else:\n",
    "            print(f\"set_values not interested in {name}.\")\n",
    "        return ed.interceptable(f)(*args, **kwargs)\n",
    "    return interceptor\n",
    "\n",
    "\n",
    "with ed.interception(set_values(beta=qbeta, alpha=qalpha, z=qz, x=x_train)):\n",
    "    pz, (pbeta, palpha), px = pca(k, d, N)\n",
    "\n",
    "energy = tf.reduce_sum(pbeta.distribution.log_prob(pbeta.value)) + \\\n",
    "         tf.reduce_sum(palpha.distribution.log_prob(palpha.value)) + \\\n",
    "         tf.reduce_sum(pz.distribution.log_prob(pz.value)) + \\\n",
    "         tf.reduce_sum(px.distribution.log_prob(px.value))\n",
    "\n",
    "entropy = tf.reduce_sum(qbeta.distribution.log_prob(qbeta.value)) + \\\n",
    "          tf.reduce_sum(qalpha.distribution.log_prob(qalpha.value)) + \\\n",
    "          tf.reduce_sum(qz.distribution.log_prob(qz.value))\n",
    "\n",
    "elbo = energy - entropy\n",
    "\n"
   ]
  },
  {
   "cell_type": "markdown",
   "metadata": {},
   "source": [
    "Finally, the ELBO function is maximized."
   ]
  },
  {
   "cell_type": "code",
   "execution_count": 7,
   "metadata": {},
   "outputs": [
    {
     "name": "stdout",
     "output_type": "stream",
     "text": [
      ".\n",
      "0 epochs\t-6.645453125 k.....\n",
      "50 epochs\t-5.8677060546875 k.....\n",
      "100 epochs\t-5.68826318359375 k.....\n",
      "150 epochs\t-4.82096142578125 k.....\n",
      "200 epochs\t-4.54353515625 k.....\n",
      "250 epochs\t-3.86071923828125 k.....\n",
      "300 epochs\t-3.365240234375 k.....\n",
      "350 epochs\t-3.4430146484375 k.....\n",
      "400 epochs\t-2.87777197265625 k.....\n",
      "450 epochs\t-2.5546396484375 k.....\n",
      "500 epochs\t-2.333752197265625 k.....\n",
      "550 epochs\t-2.112590576171875 k.....\n",
      "600 epochs\t-1.969683837890625 k.....\n",
      "650 epochs\t-1.82658984375 k.....\n",
      "700 epochs\t-1.702961181640625 k.....\n",
      "750 epochs\t-1.659767822265625 k.....\n",
      "800 epochs\t-1.61607421875 k.....\n",
      "850 epochs\t-1.4909600830078125 k.....\n",
      "900 epochs\t-1.479588134765625 k.....\n",
      "950 epochs\t-1.411820556640625 k.....\n",
      "1000 epochs\t-1.38792041015625 k.....\n",
      "1050 epochs\t-1.35455517578125 k.....\n",
      "1100 epochs\t-1.3337449951171876 k.....\n",
      "1150 epochs\t-1.3648345947265625 k.....\n",
      "1200 epochs\t-1.3596009521484376 k.....\n",
      "1250 epochs\t-1.30536962890625 k.....\n",
      "1300 epochs\t-1.3338839111328125 k.....\n",
      "1350 epochs\t-1.3312413330078126 k.....\n",
      "1400 epochs\t-1.3223984375 k.....\n",
      "1450 epochs\t-1.316861083984375 k.....\n",
      "1500 epochs\t-1.312093994140625 k.....\n",
      "1550 epochs\t-1.3024473876953124 k.....\n",
      "1600 epochs\t-1.285147705078125 k.....\n",
      "1650 epochs\t-1.298084228515625 k.....\n",
      "1700 epochs\t-1.300368408203125 k.....\n",
      "1750 epochs\t-1.3196190185546874 k.....\n",
      "1800 epochs\t-1.281498046875 k.....\n",
      "1850 epochs\t-1.272599365234375 k.....\n",
      "1900 epochs\t-1.27574755859375 k.....\n",
      "1950 epochs\t-1.3020045166015626 k.....\n",
      "2000 epochs\t-1.2847578125 k.....\n",
      "2050 epochs\t-1.274197998046875 k.....\n",
      "2100 epochs\t-1.2787249755859376 k.....\n",
      "2150 epochs\t-1.2830279541015626 k.....\n",
      "2200 epochs\t-1.292643798828125 k.....\n",
      "2250 epochs\t-1.289985595703125 k.....\n",
      "2300 epochs\t-1.301519287109375 k.....\n",
      "2350 epochs\t-1.2690599365234374 k.....\n",
      "2400 epochs\t-1.2787047119140624 k.....\n",
      "2450 epochs\t-1.2798748779296876 k.....\n",
      "2500 epochs\t-1.265370361328125 k.....\n",
      "2550 epochs\t-1.28243505859375 k.....\n",
      "2600 epochs\t-1.28639501953125 k.....\n",
      "2650 epochs\t-1.2862265625 k.....\n",
      "2700 epochs\t-1.281283447265625 k.....\n",
      "2750 epochs\t-1.2795062255859375 k.....\n",
      "2800 epochs\t-1.260238525390625 k.....\n",
      "2850 epochs\t-1.2898243408203125 k.....\n",
      "2900 epochs\t-1.2975128173828125 k.....\n",
      "2950 epochs\t-1.2654698486328124 k.....\n",
      "3000 epochs\t-1.2726441650390625 k.....\n",
      "3050 epochs\t-1.2825035400390625 k.....\n",
      "3100 epochs\t-1.281250732421875 k.....\n",
      "3150 epochs\t-1.2806236572265626 k.....\n",
      "3200 epochs\t-1.30760400390625 k.....\n",
      "3250 epochs\t-1.281203857421875 k.....\n",
      "3300 epochs\t-1.273259765625 k.....\n",
      "3350 epochs\t-1.29459521484375 k.....\n",
      "3400 epochs\t-1.2663756103515624 k.....\n",
      "3450 epochs\t-1.280966796875 k.....\n",
      "3500 epochs\t-1.2805596923828124 k.....\n",
      "3550 epochs\t-1.3058284912109375 k.....\n",
      "3600 epochs\t-1.285052001953125 k.....\n",
      "3650 epochs\t-1.298222412109375 k.....\n",
      "3700 epochs\t-1.279845703125 k.....\n",
      "3750 epochs\t-1.2734166259765625 k.....\n",
      "3800 epochs\t-1.26922509765625 k.....\n",
      "3850 epochs\t-1.268673583984375 k.....\n",
      "3900 epochs\t-1.290592041015625 k.....\n",
      "3950 epochs\t-1.289124755859375 k.....\n",
      "4000 epochs\t-1.284556640625 k.....\n",
      "4050 epochs\t-1.270322509765625 k.....\n",
      "4100 epochs\t-1.307614013671875 k.....\n",
      "4150 epochs\t-1.2654383544921874 k.....\n",
      "4200 epochs\t-1.2744429931640624 k.....\n",
      "4250 epochs\t-1.26697509765625 k.....\n",
      "4300 epochs\t-1.2667891845703125 k.....\n",
      "4350 epochs\t-1.294911376953125 k.....\n",
      "4400 epochs\t-1.273771484375 k.....\n",
      "4450 epochs\t-1.26439111328125 k.....\n",
      "4500 epochs\t-1.270277099609375 k.....\n",
      "4550 epochs\t-1.282046142578125 k.....\n",
      "4600 epochs\t-1.2770968017578126 k.....\n",
      "4650 epochs\t-1.2726624755859375 k.....\n",
      "4700 epochs\t-1.279456298828125 k.....\n",
      "4750 epochs\t-1.2919189453125 k.....\n",
      "4800 epochs\t-1.26984619140625 k.....\n",
      "4850 epochs\t-1.277936279296875 k.....\n",
      "4900 epochs\t-1.2778631591796874 k.....\n",
      "4950 epochs\t-1.303218017578125 k.....\n",
      "5000 epochs\t-1.283469970703125 k"
     ]
    }
   ],
   "source": [
    "with tf.Session() as sess:\n",
    "    optimizer = tf.train.AdamOptimizer(learning_rate)\n",
    "    t = []\n",
    "    train = optimizer.minimize(-elbo)\n",
    "    init = tf.global_variables_initializer()\n",
    "    sess.run(init)\n",
    "\n",
    "    for i in range(num_epochs + 1):\n",
    "        t.append(sess.run(elbo))\n",
    "        sess.run(train)\n",
    "        if verbose:\n",
    "            if i % 10 == 0: print(\".\", end=\"\", flush=True)\n",
    "\n",
    "            if i % 50 == 0:\n",
    "                str_elbo = str(t[-1] / 1000) + \" k\"\n",
    "                print(\"\\n\" + str(i) + \" epochs\\t\" + str_elbo, end=\"\", flush=True)\n",
    "                post = {\"z\": sess.run(qz.distribution.loc),\n",
    "                        \"beta\": sess.run(qbeta.distribution.loc),\n",
    "                        \"alpha\": sess.run(qalpha.distribution.loc)}"
   ]
  },
  {
   "cell_type": "markdown",
   "metadata": {},
   "source": [
    "After the inference, we can plot the hidden representation:"
   ]
  },
  {
   "cell_type": "code",
   "execution_count": 8,
   "metadata": {},
   "outputs": [
    {
     "data": {
      "image/png": "[encoded data removed]",
      "text/plain": [
       "<Figure size 432x288 with 1 Axes>"
      ]
     },
     "metadata": {
      "needs_background": "light"
     },
     "output_type": "display_data"
    }
   ],
   "source": [
    "CLASSES = list(set(y_train))\n",
    "\n",
    "markers = [\"x\", \"+\", \"o\"]\n",
    "colors = [plt.get_cmap(\"gist_rainbow\")(0.05),\n",
    "          plt.get_cmap(\"gnuplot2\")(0.08),\n",
    "          plt.get_cmap(\"gist_rainbow\")(0.33)]\n",
    "transp = [0.9, 0.9, 0.5]\n",
    "\n",
    "fig = plt.figure()\n",
    "\n",
    "for c in range(0, len(CLASSES)):\n",
    "    col = colors[c]\n",
    "    plt.scatter(post[\"z\"][y_train == CLASSES[c], 0], post[\"z\"][y_train == CLASSES[c], 1], color=col,\n",
    "                label=CLASSES[c], marker=markers[c], alpha=transp[c], s=60)\n",
    "    plt.legend()\n",
    "plt.show()\n",
    "\n",
    "\n",
    "fig.savefig(\"../img/pca_iris.pdf\")"
   ]
  }
 ],
 "metadata": {
  "kernelspec": {
   "display_name": "Python 3",
   "language": "python",
   "name": "python3"
  },
  "language_info": {
   "codemirror_mode": {
    "name": "ipython",
    "version": 3
   },
   "file_extension": ".py",
   "mimetype": "text/x-python",
   "name": "python",
   "nbconvert_exporter": "python",
   "pygments_lexer": "ipython3",
   "version": "3.6.8"
  }
 },
 "nbformat": 4,
 "nbformat_minor": 2
}
